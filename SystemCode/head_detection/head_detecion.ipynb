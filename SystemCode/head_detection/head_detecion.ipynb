{
 "cells": [
  {
   "cell_type": "code",
   "execution_count": null,
   "metadata": {
    "collapsed": false
   },
   "outputs": [],
   "source": [
    "# 查看当前挂载的数据集目录, 该目录下的变更重启环境后会自动还原\n",
    "# View dataset directory. \n",
    "# This directory will be recovered automatically after resetting environment. \n",
    "!ls /home/aistudio/data"
   ]
  },
  {
   "cell_type": "code",
   "execution_count": null,
   "metadata": {
    "collapsed": false
   },
   "outputs": [],
   "source": [
    "# 查看工作区文件, 该目录下的变更将会持久保存. 请及时清理不必要的文件, 避免加载过慢.\n",
    "# View personal work directory. \n",
    "# All changes under this directory will be kept even after reset. \n",
    "# Please clean unnecessary files in time to speed up environment loading. \n",
    "!ls /home/aistudio/work"
   ]
  },
  {
   "cell_type": "code",
   "execution_count": null,
   "metadata": {
    "collapsed": false
   },
   "outputs": [],
   "source": [
    "# 如果需要进行持久化安装, 需要使用持久化路径, 如下方代码示例:\n",
    "# If a persistence installation is required, \n",
    "# you need to use the persistence path as the following: \n",
    "!mkdir /home/aistudio/external-libraries\n",
    "!pip install beautifulsoup4 -t /home/aistudio/external-libraries"
   ]
  },
  {
   "cell_type": "code",
   "execution_count": null,
   "metadata": {
    "collapsed": false
   },
   "outputs": [],
   "source": [
    "# 同时添加如下代码, 这样每次环境(kernel)启动的时候只要运行下方代码即可: \n",
    "# Also add the following code, \n",
    "# so that every time the environment (kernel) starts, \n",
    "# just run the following code: \n",
    "import sys \n",
    "sys.path.append('/home/aistudio/external-libraries')"
   ]
  },
  {
   "cell_type": "markdown",
   "metadata": {
    "collapsed": false
   },
   "source": [
    "请点击[此处](https://ai.baidu.com/docs#/AIStudio_Project_Notebook/a38e5576)查看本环境基本用法.  <br>\n",
    "Please click [here ](https://ai.baidu.com/docs#/AIStudio_Project_Notebook/a38e5576) for more detailed instructions. "
   ]
  },
  {
   "cell_type": "code",
   "execution_count": null,
   "metadata": {
    "collapsed": false
   },
   "outputs": [
    {
     "name": "stdout",
     "output_type": "stream",
     "text": [
      "Archive:  /home/aistudio/data/data63328/PaddleDetection.zip\n",
      "replace /home/aistudio/work/PaddleDetection/requirements.txt? [y]es, [n]o, [A]ll, [N]one, [r]ename: ^C\n"
     ]
    }
   ],
   "source": [
    "# 解压PaddleDetection源码\r\n",
    "!unzip /home/aistudio/data/data63328/PaddleDetection.zip -d ~/work/"
   ]
  },
  {
   "cell_type": "code",
   "execution_count": null,
   "metadata": {
    "collapsed": false
   },
   "outputs": [
    {
     "name": "stdout",
     "output_type": "stream",
     "text": [
      "/home/aistudio/work/PaddleDetection\n",
      "Looking in indexes: https://mirror.baidu.com/pypi/simple/\n",
      "Requirement already satisfied: tqdm in /opt/conda/envs/python35-paddle120-env/lib/python3.7/site-packages (from -r requirements.txt (line 1)) (4.36.1)\n",
      "Collecting typeguard (from -r requirements.txt (line 2))\n",
      "  Downloading https://mirror.baidu.com/pypi/packages/a0/88/2a1613174e7d05540358b2f19881f369bfe6ba737f0a673177e69eb623df/typeguard-2.12.1-py3-none-any.whl\n",
      "Requirement already satisfied: visualdl>=2.0.0b in /opt/conda/envs/python35-paddle120-env/lib/python3.7/site-packages (from -r requirements.txt (line 3)) (2.2.0)\n",
      "Requirement already satisfied: opencv-python in /opt/conda/envs/python35-paddle120-env/lib/python3.7/site-packages (from -r requirements.txt (line 4)) (4.1.1.26)\n",
      "Requirement already satisfied: PyYAML in /opt/conda/envs/python35-paddle120-env/lib/python3.7/site-packages (from -r requirements.txt (line 5)) (5.1.2)\n",
      "Collecting shapely (from -r requirements.txt (line 6))\n",
      "\u001b[?25l  Downloading https://mirror.baidu.com/pypi/packages/98/f8/db4d3426a1aba9d5dfcc83ed5a3e2935d2b1deb73d350642931791a61c37/Shapely-1.7.1-cp37-cp37m-manylinux1_x86_64.whl (1.0MB)\n",
      "\u001b[K     |████████████████████████████████| 1.0MB 13.7MB/s eta 0:00:01\n",
      "\u001b[?25hRequirement already satisfied: flask>=1.1.1 in /opt/conda/envs/python35-paddle120-env/lib/python3.7/site-packages (from visualdl>=2.0.0b->-r requirements.txt (line 3)) (1.1.1)\n",
      "Requirement already satisfied: requests in /opt/conda/envs/python35-paddle120-env/lib/python3.7/site-packages (from visualdl>=2.0.0b->-r requirements.txt (line 3)) (2.22.0)\n",
      "Requirement already satisfied: matplotlib in /opt/conda/envs/python35-paddle120-env/lib/python3.7/site-packages (from visualdl>=2.0.0b->-r requirements.txt (line 3)) (2.2.3)\n",
      "Requirement already satisfied: Pillow>=7.0.0 in /opt/conda/envs/python35-paddle120-env/lib/python3.7/site-packages (from visualdl>=2.0.0b->-r requirements.txt (line 3)) (7.1.2)\n",
      "Requirement already satisfied: six>=1.14.0 in /opt/conda/envs/python35-paddle120-env/lib/python3.7/site-packages (from visualdl>=2.0.0b->-r requirements.txt (line 3)) (1.15.0)\n",
      "Requirement already satisfied: bce-python-sdk in /opt/conda/envs/python35-paddle120-env/lib/python3.7/site-packages (from visualdl>=2.0.0b->-r requirements.txt (line 3)) (0.8.53)\n",
      "Requirement already satisfied: pre-commit in /opt/conda/envs/python35-paddle120-env/lib/python3.7/site-packages (from visualdl>=2.0.0b->-r requirements.txt (line 3)) (1.21.0)\n",
      "Requirement already satisfied: Flask-Babel>=1.0.0 in /opt/conda/envs/python35-paddle120-env/lib/python3.7/site-packages (from visualdl>=2.0.0b->-r requirements.txt (line 3)) (1.0.0)\n",
      "Requirement already satisfied: protobuf>=3.11.0 in /opt/conda/envs/python35-paddle120-env/lib/python3.7/site-packages (from visualdl>=2.0.0b->-r requirements.txt (line 3)) (3.14.0)\n",
      "Requirement already satisfied: pandas in /opt/conda/envs/python35-paddle120-env/lib/python3.7/site-packages (from visualdl>=2.0.0b->-r requirements.txt (line 3)) (1.1.5)\n",
      "Requirement already satisfied: flake8>=3.7.9 in /opt/conda/envs/python35-paddle120-env/lib/python3.7/site-packages (from visualdl>=2.0.0b->-r requirements.txt (line 3)) (3.8.2)\n",
      "Requirement already satisfied: numpy in /opt/conda/envs/python35-paddle120-env/lib/python3.7/site-packages (from visualdl>=2.0.0b->-r requirements.txt (line 3)) (1.20.3)\n",
      "Requirement already satisfied: shellcheck-py in /opt/conda/envs/python35-paddle120-env/lib/python3.7/site-packages (from visualdl>=2.0.0b->-r requirements.txt (line 3)) (0.7.1.1)\n",
      "Requirement already satisfied: Jinja2>=2.10.1 in /opt/conda/envs/python35-paddle120-env/lib/python3.7/site-packages (from flask>=1.1.1->visualdl>=2.0.0b->-r requirements.txt (line 3)) (2.10.1)\n",
      "Requirement already satisfied: click>=5.1 in /opt/conda/envs/python35-paddle120-env/lib/python3.7/site-packages (from flask>=1.1.1->visualdl>=2.0.0b->-r requirements.txt (line 3)) (7.0)\n",
      "Requirement already satisfied: Werkzeug>=0.15 in /opt/conda/envs/python35-paddle120-env/lib/python3.7/site-packages (from flask>=1.1.1->visualdl>=2.0.0b->-r requirements.txt (line 3)) (0.16.0)\n",
      "Requirement already satisfied: itsdangerous>=0.24 in /opt/conda/envs/python35-paddle120-env/lib/python3.7/site-packages (from flask>=1.1.1->visualdl>=2.0.0b->-r requirements.txt (line 3)) (1.1.0)\n",
      "Requirement already satisfied: urllib3!=1.25.0,!=1.25.1,<1.26,>=1.21.1 in /opt/conda/envs/python35-paddle120-env/lib/python3.7/site-packages (from requests->visualdl>=2.0.0b->-r requirements.txt (line 3)) (1.25.6)\n",
      "Requirement already satisfied: idna<2.9,>=2.5 in /opt/conda/envs/python35-paddle120-env/lib/python3.7/site-packages (from requests->visualdl>=2.0.0b->-r requirements.txt (line 3)) (2.8)\n",
      "Requirement already satisfied: certifi>=2017.4.17 in /opt/conda/envs/python35-paddle120-env/lib/python3.7/site-packages (from requests->visualdl>=2.0.0b->-r requirements.txt (line 3)) (2019.9.11)\n",
      "Requirement already satisfied: chardet<3.1.0,>=3.0.2 in /opt/conda/envs/python35-paddle120-env/lib/python3.7/site-packages (from requests->visualdl>=2.0.0b->-r requirements.txt (line 3)) (3.0.4)\n",
      "Requirement already satisfied: pytz in /opt/conda/envs/python35-paddle120-env/lib/python3.7/site-packages (from matplotlib->visualdl>=2.0.0b->-r requirements.txt (line 3)) (2019.3)\n",
      "Requirement already satisfied: cycler>=0.10 in /opt/conda/envs/python35-paddle120-env/lib/python3.7/site-packages (from matplotlib->visualdl>=2.0.0b->-r requirements.txt (line 3)) (0.10.0)\n",
      "Requirement already satisfied: kiwisolver>=1.0.1 in /opt/conda/envs/python35-paddle120-env/lib/python3.7/site-packages (from matplotlib->visualdl>=2.0.0b->-r requirements.txt (line 3)) (1.1.0)\n",
      "Requirement already satisfied: python-dateutil>=2.1 in /opt/conda/envs/python35-paddle120-env/lib/python3.7/site-packages (from matplotlib->visualdl>=2.0.0b->-r requirements.txt (line 3)) (2.8.0)\n",
      "Requirement already satisfied: pyparsing!=2.0.4,!=2.1.2,!=2.1.6,>=2.0.1 in /opt/conda/envs/python35-paddle120-env/lib/python3.7/site-packages (from matplotlib->visualdl>=2.0.0b->-r requirements.txt (line 3)) (2.4.2)\n",
      "Requirement already satisfied: future>=0.6.0 in /opt/conda/envs/python35-paddle120-env/lib/python3.7/site-packages (from bce-python-sdk->visualdl>=2.0.0b->-r requirements.txt (line 3)) (0.18.0)\n",
      "Requirement already satisfied: pycryptodome>=3.8.0 in /opt/conda/envs/python35-paddle120-env/lib/python3.7/site-packages (from bce-python-sdk->visualdl>=2.0.0b->-r requirements.txt (line 3)) (3.9.9)\n",
      "Requirement already satisfied: identify>=1.0.0 in /opt/conda/envs/python35-paddle120-env/lib/python3.7/site-packages (from pre-commit->visualdl>=2.0.0b->-r requirements.txt (line 3)) (1.4.10)\n",
      "Requirement already satisfied: cfgv>=2.0.0 in /opt/conda/envs/python35-paddle120-env/lib/python3.7/site-packages (from pre-commit->visualdl>=2.0.0b->-r requirements.txt (line 3)) (2.0.1)\n",
      "Requirement already satisfied: toml in /opt/conda/envs/python35-paddle120-env/lib/python3.7/site-packages (from pre-commit->visualdl>=2.0.0b->-r requirements.txt (line 3)) (0.10.0)\n",
      "Requirement already satisfied: virtualenv>=15.2 in /opt/conda/envs/python35-paddle120-env/lib/python3.7/site-packages (from pre-commit->visualdl>=2.0.0b->-r requirements.txt (line 3)) (16.7.9)\n",
      "Requirement already satisfied: importlib-metadata; python_version < \"3.8\" in /opt/conda/envs/python35-paddle120-env/lib/python3.7/site-packages (from pre-commit->visualdl>=2.0.0b->-r requirements.txt (line 3)) (0.23)\n",
      "Requirement already satisfied: nodeenv>=0.11.1 in /opt/conda/envs/python35-paddle120-env/lib/python3.7/site-packages (from pre-commit->visualdl>=2.0.0b->-r requirements.txt (line 3)) (1.3.4)\n",
      "Requirement already satisfied: aspy.yaml in /opt/conda/envs/python35-paddle120-env/lib/python3.7/site-packages (from pre-commit->visualdl>=2.0.0b->-r requirements.txt (line 3)) (1.3.0)\n",
      "Requirement already satisfied: Babel>=2.3 in /opt/conda/envs/python35-paddle120-env/lib/python3.7/site-packages (from Flask-Babel>=1.0.0->visualdl>=2.0.0b->-r requirements.txt (line 3)) (2.8.0)\n",
      "Requirement already satisfied: pyflakes<2.3.0,>=2.2.0 in /opt/conda/envs/python35-paddle120-env/lib/python3.7/site-packages (from flake8>=3.7.9->visualdl>=2.0.0b->-r requirements.txt (line 3)) (2.2.0)\n",
      "Requirement already satisfied: mccabe<0.7.0,>=0.6.0 in /opt/conda/envs/python35-paddle120-env/lib/python3.7/site-packages (from flake8>=3.7.9->visualdl>=2.0.0b->-r requirements.txt (line 3)) (0.6.1)\n",
      "Requirement already satisfied: pycodestyle<2.7.0,>=2.6.0a1 in /opt/conda/envs/python35-paddle120-env/lib/python3.7/site-packages (from flake8>=3.7.9->visualdl>=2.0.0b->-r requirements.txt (line 3)) (2.6.0)\n",
      "Requirement already satisfied: MarkupSafe>=0.23 in /opt/conda/envs/python35-paddle120-env/lib/python3.7/site-packages (from Jinja2>=2.10.1->flask>=1.1.1->visualdl>=2.0.0b->-r requirements.txt (line 3)) (1.1.1)\n",
      "Requirement already satisfied: setuptools in /opt/conda/envs/python35-paddle120-env/lib/python3.7/site-packages (from kiwisolver>=1.0.1->matplotlib->visualdl>=2.0.0b->-r requirements.txt (line 3)) (56.2.0)\n",
      "Requirement already satisfied: zipp>=0.5 in /opt/conda/envs/python35-paddle120-env/lib/python3.7/site-packages (from importlib-metadata; python_version < \"3.8\"->pre-commit->visualdl>=2.0.0b->-r requirements.txt (line 3)) (0.6.0)\n",
      "Requirement already satisfied: more-itertools in /opt/conda/envs/python35-paddle120-env/lib/python3.7/site-packages (from zipp>=0.5->importlib-metadata; python_version < \"3.8\"->pre-commit->visualdl>=2.0.0b->-r requirements.txt (line 3)) (7.2.0)\n",
      "Installing collected packages: typeguard, shapely\n",
      "Successfully installed shapely-1.7.1 typeguard-2.12.1\n",
      "Looking in indexes: https://mirror.baidu.com/pypi/simple/\n",
      "Collecting pycocotools\n",
      "  Downloading https://mirror.baidu.com/pypi/packages/de/df/056875d697c45182ed6d2ae21f62015896fdb841906fe48e7268e791c467/pycocotools-2.0.2.tar.gz\n",
      "Requirement already satisfied: setuptools>=18.0 in /opt/conda/envs/python35-paddle120-env/lib/python3.7/site-packages (from pycocotools) (56.2.0)\n",
      "Requirement already satisfied: cython>=0.27.3 in /opt/conda/envs/python35-paddle120-env/lib/python3.7/site-packages (from pycocotools) (0.29)\n",
      "Requirement already satisfied: matplotlib>=2.1.0 in /opt/conda/envs/python35-paddle120-env/lib/python3.7/site-packages (from pycocotools) (2.2.3)\n",
      "Requirement already satisfied: pytz in /opt/conda/envs/python35-paddle120-env/lib/python3.7/site-packages (from matplotlib>=2.1.0->pycocotools) (2019.3)\n",
      "Requirement already satisfied: six>=1.10 in /opt/conda/envs/python35-paddle120-env/lib/python3.7/site-packages (from matplotlib>=2.1.0->pycocotools) (1.15.0)\n",
      "Requirement already satisfied: python-dateutil>=2.1 in /opt/conda/envs/python35-paddle120-env/lib/python3.7/site-packages (from matplotlib>=2.1.0->pycocotools) (2.8.0)\n",
      "Requirement already satisfied: kiwisolver>=1.0.1 in /opt/conda/envs/python35-paddle120-env/lib/python3.7/site-packages (from matplotlib>=2.1.0->pycocotools) (1.1.0)\n",
      "Requirement already satisfied: numpy>=1.7.1 in /opt/conda/envs/python35-paddle120-env/lib/python3.7/site-packages (from matplotlib>=2.1.0->pycocotools) (1.20.3)\n",
      "Requirement already satisfied: pyparsing!=2.0.4,!=2.1.2,!=2.1.6,>=2.0.1 in /opt/conda/envs/python35-paddle120-env/lib/python3.7/site-packages (from matplotlib>=2.1.0->pycocotools) (2.4.2)\n",
      "Requirement already satisfied: cycler>=0.10 in /opt/conda/envs/python35-paddle120-env/lib/python3.7/site-packages (from matplotlib>=2.1.0->pycocotools) (0.10.0)\n",
      "Building wheels for collected packages: pycocotools\n",
      "  Building wheel for pycocotools (setup.py) ... \u001b[?25ldone\n",
      "\u001b[?25h  Created wheel for pycocotools: filename=pycocotools-2.0.2-cp37-cp37m-linux_x86_64.whl size=278363 sha256=9c8d1a29012c46a3c9698e5718a1c92a9c8884974be32dcbf3657136f2e9afb7\n",
      "  Stored in directory: /home/aistudio/.cache/pip/wheels/fb/44/67/8baa69040569b1edbd7776ec6f82c387663e724908aaa60963\n",
      "Successfully built pycocotools\n",
      "Installing collected packages: pycocotools\n",
      "Successfully installed pycocotools-2.0.2\n"
     ]
    }
   ],
   "source": [
    "%cd ~/work/PaddleDetection\r\n",
    "! pip install -r requirements.txt\r\n",
    "! pip install pycocotools"
   ]
  },
  {
   "cell_type": "code",
   "execution_count": null,
   "metadata": {
    "collapsed": true
   },
   "outputs": [
    {
     "name": "stdout",
     "output_type": "stream",
     "text": [
      "  inflating: /home/aistudio/work/VOCdevkit/VOC2007/val_list.txt  \r"
     ]
    }
   ],
   "source": [
    "# 解压数据集\r\n",
    "!unzip /home/aistudio/data/data36352/scut_head.zip -d ~/work/VOCdevkit/VOC2007\r\n"
   ]
  },
  {
   "cell_type": "code",
   "execution_count": null,
   "metadata": {
    "collapsed": false
   },
   "outputs": [
    {
     "name": "stdout",
     "output_type": "stream",
     "text": [
      "/home/aistudio\n"
     ]
    }
   ],
   "source": [
    "%cd"
   ]
  },
  {
   "cell_type": "code",
   "execution_count": null,
   "metadata": {
    "collapsed": false
   },
   "outputs": [],
   "source": [
    "#数据集划分\r\n",
    "import os\r\n",
    "import random\r\n",
    " \r\n",
    "root_dir='work/VOCdevkit/VOC2007/'\r\n",
    " \r\n",
    "## 0.7train 0.1val 0.2test\r\n",
    "trainval_percent = 0.8\r\n",
    "train_percent = 0.7\r\n",
    "xmlfilepath = root_dir+'Annotations'\r\n",
    "txtsavepath = root_dir+'ImageSets/Main'\r\n",
    "total_xml = os.listdir(xmlfilepath)\r\n",
    " \r\n",
    "num = len(total_xml)  # 100\r\n",
    "list = range(num)\r\n",
    "tv = int(num*trainval_percent)  # 80\r\n",
    "tr = int(tv*train_percent)  # 80*0.7=56\r\n",
    "trainval = random.sample(list, tv)\r\n",
    "train = random.sample(trainval, tr)\r\n",
    " \r\n",
    "ftrainval = open(root_dir+'ImageSets/Main/trainval.txt', 'w')\r\n",
    "ftest = open(root_dir+'ImageSets/Main/test.txt', 'w')\r\n",
    "ftrain = open(root_dir+'ImageSets/Main/train.txt', 'w')\r\n",
    "fval = open(root_dir+'ImageSets/Main/val.txt', 'w')\r\n",
    " \r\n",
    "for i in list:\r\n",
    "    name = total_xml[i][:-4]+'\\n'\r\n",
    "    if i in trainval:\r\n",
    "        ftrainval.write(name)\r\n",
    "        if i in train:\r\n",
    "            ftrain.write(name)\r\n",
    "        else:\r\n",
    "            fval.write(name)\r\n",
    "    else:\r\n",
    "        ftest.write(name)\r\n",
    " \r\n",
    "ftrainval.close()\r\n",
    "ftrain.close()\r\n",
    "fval.close()"
   ]
  },
  {
   "cell_type": "code",
   "execution_count": null,
   "metadata": {
    "collapsed": false
   },
   "outputs": [
    {
     "name": "stdout",
     "output_type": "stream",
     "text": [
      "/home/aistudio\n"
     ]
    }
   ],
   "source": [
    "%cd"
   ]
  },
  {
   "cell_type": "code",
   "execution_count": null,
   "metadata": {
    "collapsed": false
   },
   "outputs": [
    {
     "name": "stdout",
     "output_type": "stream",
     "text": [
      "4526\n"
     ]
    }
   ],
   "source": [
    "import glob\r\n",
    "# path_file_number=glob.glob('D:/case/test/testcase/checkdata/*.py')#或者指定文件下个数\r\n",
    "path_file_number=glob.glob(pathname='work/VOCdevkit/VOC2007/JPEGImages/*') #获取当前文件夹下个数\r\n",
    "print(len(path_file_number))"
   ]
  },
  {
   "cell_type": "code",
   "execution_count": null,
   "metadata": {
    "collapsed": false
   },
   "outputs": [
    {
     "name": "stdout",
     "output_type": "stream",
     "text": [
      "Traceback (most recent call last):\r\n",
      "  File \"work/PaddleDetection/dataset/voc/create_list.py\", line 45, in <module>\r\n",
      "    main(config)\r\n",
      "  File \"work/PaddleDetection/dataset/voc/create_list.py\", line 31, in main\r\n",
      "    create_voc_list(voc_path)\r\n",
      "  File \"/home/aistudio/work/PaddleDetection/ppdet/utils/download.py\", line 166, in create_voc_list\r\n",
      "    create_list(year_dirs, data_dir)\r\n",
      "  File \"/home/aistudio/work/PaddleDetection/ppdet/utils/voc_utils.py\", line 37, in create_list\r\n",
      "    trainval, test = _walk_voc_dir(year_dir, output_dir)\r\n",
      "  File \"/home/aistudio/work/PaddleDetection/ppdet/utils/voc_utils.py\", line 62, in _walk_voc_dir\r\n",
      "    for img_file in os.listdir(img_dir):\r\n",
      "FileNotFoundError: [Errno 2] No such file or directory: './work/VOCdevkit/.ipynb_checkpoints/JPEGImages'\r\n"
     ]
    }
   ],
   "source": [
    "!python work/PaddleDetection/dataset/voc/create_list.py -d './work'"
   ]
  },
  {
   "cell_type": "code",
   "execution_count": null,
   "metadata": {
    "collapsed": true
   },
   "outputs": [
    {
     "name": "stdout",
     "output_type": "stream",
     "text": [
      "2021-01-01 17:11:21,901-INFO: Best test box ap: 83.98644651808186, in iter: 19999\r"
     ]
    }
   ],
   "source": [
    "!python -u work/PaddleDetection/tools/train.py -c work/test1_ppyolo.yml \\\r\n",
    "                        --use_vdl=true \\\r\n",
    "                        --vdl_log_dir=vdl_dir-ppyolo/scalar \\\r\n",
    "                        --eval\\\r\n",
    "                        # -r output/test1-ppyolo/best_model"
   ]
  },
  {
   "cell_type": "code",
   "execution_count": null,
   "metadata": {
    "collapsed": false
   },
   "outputs": [
    {
     "name": "stdout",
     "output_type": "stream",
     "text": [
      "2021-01-02 22:05:18,660-INFO: Best test box ap: 89.38294805473805, in iter: 134000\r"
     ]
    }
   ],
   "source": [
    "!python -u work/PaddleDetection/tools/train.py -c work/test2_yolov4.yml \\\r\n",
    "                        --use_vdl=true \\\r\n",
    "                        --vdl_log_dir=vdl_dir-yolov4/scalar \\\r\n",
    "                        --eval"
   ]
  },
  {
   "cell_type": "code",
   "execution_count": null,
   "metadata": {
    "collapsed": false
   },
   "outputs": [
    {
     "name": "stdout",
     "output_type": "stream",
     "text": [
      "You are using Paddle compiled with TensorRT, but TensorRT dynamic library is not found. Ignore this if TensorRT is not needed.\n",
      "/home/aistudio/work/PaddleDetection/ppdet/core/workspace.py:118: DeprecationWarning: Using or importing the ABCs from 'collections' instead of from 'collections.abc' is deprecated, and in 3.8 it will stop working\n",
      "  isinstance(merge_dct[k], collections.Mapping)):\n",
      "/opt/conda/envs/python35-paddle120-env/lib/python3.7/site-packages/paddle/fluid/layers/math_op_patch.py:297: UserWarning: /home/aistudio/work/PaddleDetection/ppdet/modeling/anchor_heads/iou_aware.py:64\n",
      "The behavior of expression A * B has been unified with elementwise_mul(X, Y, axis=-1) from Paddle 2.0. If your code works well in the older versions but crashes in this version, try to use elementwise_mul(X, Y, axis=0) instead of A * B. This transitional warning will be dropped in the future.\n",
      "  op_type, op_type, EXPRESSION_MAP[method_name]))\n",
      "/opt/conda/envs/python35-paddle120-env/lib/python3.7/site-packages/paddle/fluid/layers/math_op_patch.py:297: UserWarning: /home/aistudio/work/PaddleDetection/ppdet/modeling/anchor_heads/iou_aware.py:40\n",
      "The behavior of expression A / B has been unified with elementwise_div(X, Y, axis=-1) from Paddle 2.0. If your code works well in the older versions but crashes in this version, try to use elementwise_div(X, Y, axis=0) instead of A / B. This transitional warning will be dropped in the future.\n",
      "  op_type, op_type, EXPRESSION_MAP[method_name]))\n",
      "W0102 23:13:26.085017 15837 device_context.cc:320] Please NOTE: device: 0, GPU Compute Capability: 7.0, Driver API Version: 10.1, Runtime API Version: 10.1\n",
      "W0102 23:13:26.090487 15837 device_context.cc:330] device: 0, cuDNN Version: 7.6.\n",
      "2021-01-02 23:13:34,352-INFO: Test iter 0\n",
      "2021-01-02 23:13:37,357-INFO: Test iter 100\n",
      "2021-01-02 23:13:39,912-INFO: Test iter 200\n",
      "2021-01-02 23:13:42,441-INFO: Test iter 300\n",
      "2021-01-02 23:13:44,920-INFO: Test iter 400\n",
      "2021-01-02 23:13:47,589-INFO: Test iter 500\n",
      "2021-01-02 23:13:50,122-INFO: Test iter 600\n",
      "2021-01-02 23:13:52,275-INFO: Test finish iter 683\n",
      "2021-01-02 23:13:52,275-INFO: Total number of images: 683, inference time: 37.26607744132053 fps.\n",
      "2021-01-02 23:13:52,276-INFO: Start evaluate...\n",
      "2021-01-02 23:13:59,576-INFO: Accumulating evaluatation results...\n",
      "2021-01-02 23:13:59,689-INFO: mAP(0.50, 11point) = 83.99%\n"
     ]
    }
   ],
   "source": [
    "!python work/PaddleDetection/tools/eval.py -c work/test1_ppyolo.yml  \\\r\n",
    "                                    -o weights=output/test1_ppyolo/best_model"
   ]
  },
  {
   "cell_type": "code",
   "execution_count": null,
   "metadata": {
    "collapsed": false
   },
   "outputs": [
    {
     "name": "stdout",
     "output_type": "stream",
     "text": [
      "You are using Paddle compiled with TensorRT, but TensorRT dynamic library is not found. Ignore this if TensorRT is not needed.\n",
      "/home/aistudio/work/PaddleDetection/ppdet/core/workspace.py:118: DeprecationWarning: Using or importing the ABCs from 'collections' instead of from 'collections.abc' is deprecated, and in 3.8 it will stop working\n",
      "  isinstance(merge_dct[k], collections.Mapping)):\n",
      "W0102 23:19:20.408790 16183 device_context.cc:320] Please NOTE: device: 0, GPU Compute Capability: 7.0, Driver API Version: 10.1, Runtime API Version: 10.1\n",
      "W0102 23:19:20.413432 16183 device_context.cc:330] device: 0, cuDNN Version: 7.6.\n",
      "2021-01-02 23:19:27,200-INFO: Load categories from work/label_list.txt\n",
      "2021-01-02 23:19:27,441-INFO: Infer iter 0\n",
      "2021-01-02 23:19:27,455-INFO: Detection bbox results save in output/2.png\n"
     ]
    }
   ],
   "source": [
    "!python work/PaddleDetection/tools/infer.py -c work/test1_ppyolo.yml  \\\r\n",
    "                                            --infer_img=work/2.png \\\r\n",
    "                                            -o weights=output/test1_ppyolo/14000"
   ]
  },
  {
   "cell_type": "code",
   "execution_count": null,
   "metadata": {
    "collapsed": false
   },
   "outputs": [
    {
     "name": "stdout",
     "output_type": "stream",
     "text": [
      "You are using Paddle compiled with TensorRT, but TensorRT dynamic library is not found. Ignore this if TensorRT is not needed.\n",
      "/home/aistudio/work/PaddleDetection/ppdet/core/workspace.py:118: DeprecationWarning: Using or importing the ABCs from 'collections' instead of from 'collections.abc' is deprecated, and in 3.8 it will stop working\n",
      "  isinstance(merge_dct[k], collections.Mapping)):\n",
      "/home/aistudio/work/PaddleDetection/ppdet/modeling/losses/yolo_loss.py:71: DeprecationWarning: The 'warn' method is deprecated, use 'warning' instead\n",
      "  \"config YOLOv3Loss.batch_size is deprecated, \"\n",
      "2021-01-02 23:20:13,934-WARNING: config YOLOv3Loss.batch_size is deprecated, training batch size should be set by TrainReader.batch_size\n",
      "/opt/conda/envs/python35-paddle120-env/lib/python3.7/site-packages/paddle/fluid/layers/math_op_patch.py:297: UserWarning: /home/aistudio/work/PaddleDetection/ppdet/modeling/backbones/cspdarknet.py:58\n",
      "The behavior of expression A * B has been unified with elementwise_mul(X, Y, axis=-1) from Paddle 2.0. If your code works well in the older versions but crashes in this version, try to use elementwise_mul(X, Y, axis=0) instead of A * B. This transitional warning will be dropped in the future.\n",
      "  op_type, op_type, EXPRESSION_MAP[method_name]))\n",
      "W0102 23:20:15.365293 16363 device_context.cc:320] Please NOTE: device: 0, GPU Compute Capability: 7.0, Driver API Version: 10.1, Runtime API Version: 10.1\n",
      "W0102 23:20:15.370633 16363 device_context.cc:330] device: 0, cuDNN Version: 7.6.\n",
      "2021-01-02 23:20:25,258-INFO: Test iter 0\n",
      "2021-01-02 23:20:37,586-INFO: Test finish iter 57\n",
      "2021-01-02 23:20:37,586-INFO: Total number of images: 683, inference time: 49.12887951906098 fps.\n",
      "2021-01-02 23:20:37,587-INFO: Start evaluate...\n",
      "2021-01-02 23:20:42,318-INFO: Accumulating evaluatation results...\n",
      "2021-01-02 23:20:42,352-INFO: mAP(0.50, 11point) = 89.38%\n"
     ]
    }
   ],
   "source": [
    "!python work/PaddleDetection/tools/eval.py -c work/test2_yolov4.yml  \\\r\n",
    "                                    -o weights=output/best_v4"
   ]
  },
  {
   "cell_type": "code",
   "execution_count": null,
   "metadata": {
    "collapsed": false
   },
   "outputs": [
    {
     "name": "stdout",
     "output_type": "stream",
     "text": [
      "/opt/conda/envs/python35-paddle120-env/lib/python3.7/site-packages/paddle/fluid/layers/utils.py:26: DeprecationWarning: `np.int` is a deprecated alias for the builtin `int`. To silence this warning, use `int` by itself. Doing this will not modify any behavior and is safe. When replacing `np.int`, you may wish to use e.g. `np.int64` or `np.int32` to specify the precision. If you wish to review your current use, check the release note link for additional information.\n",
      "Deprecated in NumPy 1.20; for more details and guidance: https://numpy.org/devdocs/release/1.20.0-notes.html#deprecations\n",
      "  def convert_to_list(value, n, name, dtype=np.int):\n",
      "/home/aistudio/work/PaddleDetection/ppdet/core/workspace.py:118: DeprecationWarning: Using or importing the ABCs from 'collections' instead of from 'collections.abc' is deprecated, and in 3.8 it will stop working\n",
      "  isinstance(merge_dct[k], collections.Mapping)):\n",
      "/home/aistudio/work/PaddleDetection/ppdet/modeling/losses/yolo_loss.py:71: DeprecationWarning: The 'warn' method is deprecated, use 'warning' instead\n",
      "  \"config YOLOv3Loss.batch_size is deprecated, \"\n",
      "2021-08-28 17:32:33,692 - WARNING - config YOLOv3Loss.batch_size is deprecated, training batch size should be set by TrainReader.batch_size\n",
      "/opt/conda/envs/python35-paddle120-env/lib/python3.7/site-packages/paddle/fluid/layers/math_op_patch.py:298: UserWarning: /home/aistudio/work/PaddleDetection/ppdet/modeling/backbones/cspdarknet.py:58\n",
      "The behavior of expression A * B has been unified with elementwise_mul(X, Y, axis=-1) from Paddle 2.0. If your code works well in the older versions but crashes in this version, try to use elementwise_mul(X, Y, axis=0) instead of A * B. This transitional warning will be dropped in the future.\n",
      "  op_type, op_type, EXPRESSION_MAP[method_name]))\n",
      "W0828 17:32:34.852285  1800 device_context.cc:362] Please NOTE: device: 0, GPU Compute Capability: 7.0, Driver API Version: 11.0, Runtime API Version: 10.1\n",
      "W0828 17:32:34.857268  1800 device_context.cc:372] device: 0, cuDNN Version: 7.6.\n",
      "2021-08-28 17:32:40,521 - INFO - Load categories from work/label_list.txt\n",
      "2021-08-28 17:32:40,827 - INFO - Infer iter 0\n",
      "[{'image_id': 0, 'category_id': 0, 'bbox': [589.0254516601562, 292.9122619628906, 118.565673828125, 138.5467529296875], 'score': 0.9972456693649292}, {'image_id': 0, 'category_id': 0, 'bbox': [144.64878845214844, 250.4841766357422, 108.0860595703125, 144.3869171142578], 'score': 0.996024489402771}, {'image_id': 0, 'category_id': 0, 'bbox': [367.4501647949219, 247.3995819091797, 106.2908935546875, 133.5972442626953], 'score': 0.9947512149810791}, {'image_id': 0, 'category_id': 0, 'bbox': [705.0242919921875, 435.5804443359375, 178.1763916015625, 147.855224609375], 'score': 0.6135302782058716}]\n",
      "2021-08-28 17:32:40,852 - INFO - Detection bbox results save in output/test.jpg\n"
     ]
    }
   ],
   "source": [
    "!python work/PaddleDetection/tools/infer.py -c work/test2_yolov4.yml  \\\r\n",
    "                                            --infer_img=test.jpg \\\r\n",
    "                                            -o weights=best_v4"
   ]
  },
  {
   "cell_type": "code",
   "execution_count": 42,
   "metadata": {
    "collapsed": false
   },
   "outputs": [
    {
     "name": "stdout",
     "output_type": "stream",
     "text": [
      "705 435 178.1763916015625 147.855224609375\n"
     ]
    },
    {
     "data": {
      "image/png": "[encoded data removed]",
      "text/plain": [
       "<Figure size 432x288 with 1 Axes>"
      ]
     },
     "metadata": {},
     "output_type": "display_data"
    }
   ],
   "source": [
    "import os\r\n",
    "from PIL import Image\r\n",
    "import matplotlib.pyplot as plt\r\n",
    "import numpy as np\r\n",
    "\r\n",
    "bbox=[705.0242919921875, 435.5804443359375, 178.1763916015625, 147.855224609375]\r\n",
    "\r\n",
    "xmin, ymin, w, h = bbox\r\n",
    "xmax = int(xmin + w)\r\n",
    "ymax = int(ymin + h)\r\n",
    "xmin=int(xmin)\r\n",
    "ymin=int(ymin)\r\n",
    "\r\n",
    "print(xmin, ymin, w, h)\r\n",
    "img = Image.open('test.jpg')\r\n",
    "img=np.array(img)\r\n",
    "img=img[ymin:ymax,xmin:xmax]\r\n",
    "plt.imshow(img)\r\n",
    "plt.imsave('output1.png',img)"
   ]
  },
  {
   "cell_type": "code",
   "execution_count": 43,
   "metadata": {
    "collapsed": false
   },
   "outputs": [],
   "source": [
    "from PIL import Image\r\n",
    "img = Image.open('output1.png').convert('LA')\r\n",
    "img.save('greyscale.png')\r\n"
   ]
  }
 ],
 "metadata": {
  "kernelspec": {
   "display_name": "PaddlePaddle 2.0.0b0 (Python 3.5)",
   "language": "python",
   "name": "py35-paddle1.2.0"
  },
  "language_info": {
   "codemirror_mode": {
    "name": "ipython",
    "version": 3
   },
   "file_extension": ".py",
   "mimetype": "text/x-python",
   "name": "python",
   "nbconvert_exporter": "python",
   "pygments_lexer": "ipython3",
   "version": "3.7.4"
  }
 },
 "nbformat": 4,
 "nbformat_minor": 1
}
